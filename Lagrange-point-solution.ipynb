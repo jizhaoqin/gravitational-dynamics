{
 "cells": [
  {
   "cell_type": "code",
   "execution_count": 2,
   "metadata": {},
   "outputs": [],
   "source": [
    "import numpy as np\n",
    "import matplotlib.pyplot as plt\n",
    "from scipy.optimize import root"
   ]
  },
  {
   "cell_type": "code",
   "execution_count": 1,
   "metadata": {},
   "outputs": [],
   "source": [
    "d = 1.0\n",
    "MSun = 1.9884e33\n",
    "MEarth = 5.9722e27\n",
    "MJupiter = 1.898e30\n",
    "\n",
    "\n",
    "def getMu(M1, M2):\n",
    "    return M2 / (M1 + M2)\n",
    "\n",
    "\n",
    "mu = getMu(MSun, MJupiter)\n",
    "\n",
    "\n",
    "def getApproximation(M1=MSun, M2=MEarth):\n",
    "    return d * np.power(M2 / 3 / M1, 1.0 / 3.0)\n",
    "\n",
    "\n",
    "def L1Equation(r):\n",
    "    return r**5 + (mu - 3) * r**4 + (3 - 2 * mu) * r**3 - mu * r**2 - 2 * mu * r - mu"
   ]
  },
  {
   "cell_type": "code",
   "execution_count": 18,
   "metadata": {},
   "outputs": [
    {
     "name": "stdout",
     "output_type": "stream",
     "text": [
      "for Sun and Earth system:\n",
      "mu = 3.00e-06\n",
      "L1 theoretical solution: 0.0101052266 AU\n",
      "approximation: 0.010004 AU\n",
      "error: 1.00262%\n"
     ]
    }
   ],
   "source": [
    "print(\"for Sun and Earth system:\")\n",
    "print(f\"mu = {mu:.2e}\")\n",
    "Solution = root(L1Equation, 0.1)\n",
    "print(f\"L1 theoretical solution: {Solution.x[0]:.10f} AU\")\n",
    "print(f\"approximation: {getApproximation():.6f} AU\")\n",
    "print(f\"error: {(Solution.x[0]-getApproximation()) / Solution.x[0]:.5%}\")"
   ]
  },
  {
   "cell_type": "code",
   "execution_count": 21,
   "metadata": {},
   "outputs": [
    {
     "name": "stdout",
     "output_type": "stream",
     "text": [
      "for Sun and Jupiter in Earth position system:\n",
      "mu = 9.54e-04\n",
      "L1 theoretical solution: 0.0733542615 AU\n",
      "approximation: 0.010004 AU\n",
      "error: 86.36220%\n"
     ]
    }
   ],
   "source": [
    "print(\"for Sun and Jupiter in Earth position system:\")\n",
    "print(f\"mu = {mu:.2e}\")\n",
    "Solution = root(L1Equation, 0.1)\n",
    "print(f\"L1 theoretical solution: {Solution.x[0]:.10f} AU\")\n",
    "print(f\"approximation: {getApproximation():.6f} AU\")\n",
    "print(f\"error: {(Solution.x[0]-getApproximation()) / Solution.x[0]:.5%}\")"
   ]
  }
 ],
 "metadata": {
  "kernelspec": {
   "display_name": "python3.11",
   "language": "python",
   "name": "python3"
  },
  "language_info": {
   "codemirror_mode": {
    "name": "ipython",
    "version": 3
   },
   "file_extension": ".py",
   "mimetype": "text/x-python",
   "name": "python",
   "nbconvert_exporter": "python",
   "pygments_lexer": "ipython3",
   "version": "3.11.6"
  },
  "orig_nbformat": 4
 },
 "nbformat": 4,
 "nbformat_minor": 2
}
